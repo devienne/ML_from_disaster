{
 "cells": [
  {
   "cell_type": "markdown",
   "id": "d4eec5b4",
   "metadata": {},
   "source": [
    "# Machine Learning from disaster\n",
    "\n",
    "## Goal: Use passenger data from Titanic to predict who will survive and who will die.\n",
    "\n"
   ]
  },
  {
   "cell_type": "code",
   "execution_count": 69,
   "id": "123de9f0",
   "metadata": {},
   "outputs": [],
   "source": [
    "import numpy as np\n",
    "import pandas as pd\n",
    "import matplotlib.pyplot as plt\n",
    "import matplotlib.colors as mcolors\n",
    "import seaborn as sns\n",
    "\n",
    "%matplotlib inline\n",
    "sns.set_theme()\n",
    "\n",
    "# Defining a color scheme\n",
    "colors = [key for key in mcolors.TABLEAU_COLORS.keys()]\n"
   ]
  },
  {
   "cell_type": "code",
   "execution_count": 2,
   "id": "e9849f15",
   "metadata": {},
   "outputs": [
    {
     "data": {
      "text/html": [
       "<div>\n",
       "<style scoped>\n",
       "    .dataframe tbody tr th:only-of-type {\n",
       "        vertical-align: middle;\n",
       "    }\n",
       "\n",
       "    .dataframe tbody tr th {\n",
       "        vertical-align: top;\n",
       "    }\n",
       "\n",
       "    .dataframe thead th {\n",
       "        text-align: right;\n",
       "    }\n",
       "</style>\n",
       "<table border=\"1\" class=\"dataframe\">\n",
       "  <thead>\n",
       "    <tr style=\"text-align: right;\">\n",
       "      <th></th>\n",
       "      <th>PassengerId</th>\n",
       "      <th>Survived</th>\n",
       "      <th>Pclass</th>\n",
       "      <th>Name</th>\n",
       "      <th>Sex</th>\n",
       "      <th>Age</th>\n",
       "      <th>SibSp</th>\n",
       "      <th>Parch</th>\n",
       "      <th>Ticket</th>\n",
       "      <th>Fare</th>\n",
       "      <th>Cabin</th>\n",
       "      <th>Embarked</th>\n",
       "    </tr>\n",
       "  </thead>\n",
       "  <tbody>\n",
       "    <tr>\n",
       "      <th>0</th>\n",
       "      <td>1</td>\n",
       "      <td>0</td>\n",
       "      <td>3</td>\n",
       "      <td>Braund, Mr. Owen Harris</td>\n",
       "      <td>male</td>\n",
       "      <td>22.0</td>\n",
       "      <td>1</td>\n",
       "      <td>0</td>\n",
       "      <td>A/5 21171</td>\n",
       "      <td>7.2500</td>\n",
       "      <td>NaN</td>\n",
       "      <td>S</td>\n",
       "    </tr>\n",
       "    <tr>\n",
       "      <th>1</th>\n",
       "      <td>2</td>\n",
       "      <td>1</td>\n",
       "      <td>1</td>\n",
       "      <td>Cumings, Mrs. John Bradley (Florence Briggs Th...</td>\n",
       "      <td>female</td>\n",
       "      <td>38.0</td>\n",
       "      <td>1</td>\n",
       "      <td>0</td>\n",
       "      <td>PC 17599</td>\n",
       "      <td>71.2833</td>\n",
       "      <td>C85</td>\n",
       "      <td>C</td>\n",
       "    </tr>\n",
       "    <tr>\n",
       "      <th>2</th>\n",
       "      <td>3</td>\n",
       "      <td>1</td>\n",
       "      <td>3</td>\n",
       "      <td>Heikkinen, Miss. Laina</td>\n",
       "      <td>female</td>\n",
       "      <td>26.0</td>\n",
       "      <td>0</td>\n",
       "      <td>0</td>\n",
       "      <td>STON/O2. 3101282</td>\n",
       "      <td>7.9250</td>\n",
       "      <td>NaN</td>\n",
       "      <td>S</td>\n",
       "    </tr>\n",
       "    <tr>\n",
       "      <th>3</th>\n",
       "      <td>4</td>\n",
       "      <td>1</td>\n",
       "      <td>1</td>\n",
       "      <td>Futrelle, Mrs. Jacques Heath (Lily May Peel)</td>\n",
       "      <td>female</td>\n",
       "      <td>35.0</td>\n",
       "      <td>1</td>\n",
       "      <td>0</td>\n",
       "      <td>113803</td>\n",
       "      <td>53.1000</td>\n",
       "      <td>C123</td>\n",
       "      <td>S</td>\n",
       "    </tr>\n",
       "    <tr>\n",
       "      <th>4</th>\n",
       "      <td>5</td>\n",
       "      <td>0</td>\n",
       "      <td>3</td>\n",
       "      <td>Allen, Mr. William Henry</td>\n",
       "      <td>male</td>\n",
       "      <td>35.0</td>\n",
       "      <td>0</td>\n",
       "      <td>0</td>\n",
       "      <td>373450</td>\n",
       "      <td>8.0500</td>\n",
       "      <td>NaN</td>\n",
       "      <td>S</td>\n",
       "    </tr>\n",
       "  </tbody>\n",
       "</table>\n",
       "</div>"
      ],
      "text/plain": [
       "   PassengerId  Survived  Pclass  \\\n",
       "0            1         0       3   \n",
       "1            2         1       1   \n",
       "2            3         1       3   \n",
       "3            4         1       1   \n",
       "4            5         0       3   \n",
       "\n",
       "                                                Name     Sex   Age  SibSp  \\\n",
       "0                            Braund, Mr. Owen Harris    male  22.0      1   \n",
       "1  Cumings, Mrs. John Bradley (Florence Briggs Th...  female  38.0      1   \n",
       "2                             Heikkinen, Miss. Laina  female  26.0      0   \n",
       "3       Futrelle, Mrs. Jacques Heath (Lily May Peel)  female  35.0      1   \n",
       "4                           Allen, Mr. William Henry    male  35.0      0   \n",
       "\n",
       "   Parch            Ticket     Fare Cabin Embarked  \n",
       "0      0         A/5 21171   7.2500   NaN        S  \n",
       "1      0          PC 17599  71.2833   C85        C  \n",
       "2      0  STON/O2. 3101282   7.9250   NaN        S  \n",
       "3      0            113803  53.1000  C123        S  \n",
       "4      0            373450   8.0500   NaN        S  "
      ]
     },
     "execution_count": 2,
     "metadata": {},
     "output_type": "execute_result"
    }
   ],
   "source": [
    "df_train = pd.read_csv('train.csv')\n",
    "df_train.head()"
   ]
  },
  {
   "cell_type": "markdown",
   "id": "d2754c0b",
   "metadata": {},
   "source": [
    "Type of each variable:\n",
    "    \n",
    "* **Passenger ID**: Passenger ID - Numerical (integer)\n",
    "\n",
    "* **Survied**: Survival - Categorical (binary)\n",
    "\n",
    "* **Pclass**: Ticket class - Categorical (integer) $\\rightarrow$ *a proxy for socio-economic status*.\n",
    "\n",
    "* **Name**: Name - (string)\n",
    "\n",
    "* **Sex**: Sex - Categorical (binary)\n",
    "\n",
    "* **Age**: Age in years - Numerical (integer)\n",
    "\n",
    "* **SibSP**: Number of siblings / spouses aboard the Titanic - Numerical (integer)\n",
    "\n",
    "* **Parch**: Number of parents / childer aboard the Titanic - Numerical (integer)\n",
    "\n",
    "* **Ticket**: Ticket number - (string)\n",
    "\n",
    "* **Fare**: Passenger fare - Numerical (float)\n",
    "\n",
    "* **Cabin**: Cabin Number - (string or NaN)\n",
    "\n",
    "* **Embarked**: Port of embarkation (Southhampton, Queenstown, Cherbourg)\n",
    "\n"
   ]
  },
  {
   "cell_type": "markdown",
   "id": "b61407cb",
   "metadata": {},
   "source": [
    "### Exploratory data analysis"
   ]
  },
  {
   "cell_type": "markdown",
   "id": "5ad415bd",
   "metadata": {},
   "source": [
    "Let us first have a general look at how data are distributed and if there are many NaN entries in our data frame. "
   ]
  },
  {
   "cell_type": "markdown",
   "id": "4f5e0a83",
   "metadata": {},
   "source": [
    "Data set shape"
   ]
  },
  {
   "cell_type": "code",
   "execution_count": 21,
   "id": "a1e57fd1",
   "metadata": {},
   "outputs": [
    {
     "data": {
      "text/plain": [
       "(891, 12)"
      ]
     },
     "execution_count": 21,
     "metadata": {},
     "output_type": "execute_result"
    }
   ],
   "source": [
    "df_train.shape"
   ]
  },
  {
   "cell_type": "markdown",
   "id": "7f742224",
   "metadata": {},
   "source": [
    "Count NaN entries"
   ]
  },
  {
   "cell_type": "code",
   "execution_count": 24,
   "id": "4cdfcd01",
   "metadata": {
    "scrolled": true
   },
   "outputs": [
    {
     "data": {
      "text/plain": [
       "PassengerId      0\n",
       "Survived         0\n",
       "Pclass           0\n",
       "Name             0\n",
       "Sex              0\n",
       "Age            177\n",
       "SibSp            0\n",
       "Parch            0\n",
       "Ticket           0\n",
       "Fare             0\n",
       "Cabin          687\n",
       "Embarked         2\n",
       "dtype: int64"
      ]
     },
     "execution_count": 24,
     "metadata": {},
     "output_type": "execute_result"
    }
   ],
   "source": [
    "count_NaN = df_train.isna().sum()\n",
    "count_NaN"
   ]
  },
  {
   "cell_type": "markdown",
   "id": "2ed7a8d8",
   "metadata": {},
   "source": [
    "So both 'Age' and 'Cabin' have a relatively large number of NaN entries. In this first attempt I won't delete those missing data, but in the next attemps I'll check how different approachs of handling missing data affect the performance of the predictive models.\n",
    "\n",
    "Next let's have a look at the data distribution."
   ]
  },
  {
   "cell_type": "markdown",
   "id": "01cf775d",
   "metadata": {},
   "source": [
    "1. Age distribution"
   ]
  },
  {
   "cell_type": "code",
   "execution_count": 99,
   "id": "85d5bd99",
   "metadata": {},
   "outputs": [
    {
     "data": {
      "image/png": "[encoded data removed]",
      "text/plain": [
       "<Figure size 640x480 with 1 Axes>"
      ]
     },
     "metadata": {},
     "output_type": "display_data"
    }
   ],
   "source": [
    "mean = df_train.Age.mean()\n",
    "median = df_train.Age.median()\n",
    "\n",
    "plt.hist(df_train.Age, bins=20, color=colors[0])\n",
    "plt.axvline(x=median, c='k', label = 'Median age: ' + str(int(median)), lw=3)\n",
    "plt.axvline(x=mean, c='red', label = 'Average age: ' + str(int(mean)), lw=3)\n",
    "plt.xlabel('Age (years)')\n",
    "plt.ylabel('Number of passengers')\n",
    "plt.legend(framealpha=1)\n",
    "plt.ylim(top=100)\n",
    "plt.xlim([0,80])\n",
    "plt.show()"
   ]
  },
  {
   "cell_type": "markdown",
   "id": "4e1f93ae",
   "metadata": {},
   "source": [
    "2. Survival distribution"
   ]
  },
  {
   "cell_type": "code",
   "execution_count": 72,
   "id": "74805104",
   "metadata": {},
   "outputs": [
    {
     "data": {
      "image/png": "[encoded data removed]",
      "text/plain": [
       "<Figure size 640x480 with 1 Axes>"
      ]
     },
     "metadata": {},
     "output_type": "display_data"
    }
   ],
   "source": [
    "sns.countplot(data=df_train, x='Survived', palette=colors)\n",
    "plt.xticks([0,1], ['Died', 'Survived'])\n",
    "plt.ylabel('Number of passengers')\n",
    "plt.xlabel('')\n",
    "plt.show()"
   ]
  },
  {
   "cell_type": "markdown",
   "id": "63225128",
   "metadata": {},
   "source": [
    "3. Socio-economic class distribution"
   ]
  },
  {
   "cell_type": "code",
   "execution_count": 90,
   "id": "57fac8a7",
   "metadata": {},
   "outputs": [
    {
     "data": {
      "image/png": "[encoded data removed]",
      "text/plain": [
       "<Figure size 640x480 with 1 Axes>"
      ]
     },
     "metadata": {},
     "output_type": "display_data"
    }
   ],
   "source": [
    "sns.countplot(data=df_train, x='Pclass', palette=colors)\n",
    "plt.xticks([0,1,2], ['First', 'Second', 'Third'])\n",
    "plt.xlabel('')\n",
    "plt.title('Ticket class')\n",
    "plt.ylabel('Number of passengers')\n",
    "plt.ylim(top=500)\n",
    "plt.show()"
   ]
  },
  {
   "cell_type": "markdown",
   "id": "6d0558b6",
   "metadata": {},
   "source": [
    "4. Sex distribution"
   ]
  },
  {
   "cell_type": "code",
   "execution_count": 89,
   "id": "a72a1634",
   "metadata": {},
   "outputs": [
    {
     "data": {
      "image/png": "[encoded data removed]",
      "text/plain": [
       "<Figure size 640x480 with 1 Axes>"
      ]
     },
     "metadata": {},
     "output_type": "display_data"
    }
   ],
   "source": [
    "sns.countplot(data=df_train, x='Sex', palette=colors)\n",
    "plt.xlabel('')\n",
    "plt.ylabel('Number of passengers')\n",
    "plt.title('Sex')\n",
    "plt.xticks([0,1], ['Male', 'Female'])\n",
    "plt.ylim(top=600)\n",
    "plt.show()"
   ]
  },
  {
   "cell_type": "code",
   "execution_count": null,
   "id": "a5c3809c",
   "metadata": {},
   "outputs": [],
   "source": []
  },
  {
   "cell_type": "code",
   "execution_count": null,
   "id": "af9513c8",
   "metadata": {},
   "outputs": [],
   "source": []
  },
  {
   "cell_type": "code",
   "execution_count": null,
   "id": "192026b7",
   "metadata": {},
   "outputs": [],
   "source": []
  }
 ],
 "metadata": {
  "kernelspec": {
   "display_name": "Python 3 (ipykernel)",
   "language": "python",
   "name": "python3"
  },
  "language_info": {
   "codemirror_mode": {
    "name": "ipython",
    "version": 3
   },
   "file_extension": ".py",
   "mimetype": "text/x-python",
   "name": "python",
   "nbconvert_exporter": "python",
   "pygments_lexer": "ipython3",
   "version": "3.9.13"
  }
 },
 "nbformat": 4,
 "nbformat_minor": 5
}
